{
 "cells": [
  {
   "cell_type": "markdown",
   "id": "7e7a1ab8-2599-417d-9a65-25ef07f3a786",
   "metadata": {
    "id": "7e7a1ab8-2599-417d-9a65-25ef07f3a786"
   },
   "source": [
    "# Lab | Web Scraping"
   ]
  },
  {
   "cell_type": "markdown",
   "id": "ce8882fc-4815-4567-92fa-b4816358ba7d",
   "metadata": {
    "id": "ce8882fc-4815-4567-92fa-b4816358ba7d"
   },
   "source": [
    "Welcome to the IMDb Web Scraping Adventure Lab!\n",
    "\n",
    "**Objective**\n",
    "\n",
    "In this lab, we will embark on a mission to unearth valuable insights from the vast sea of data available on IMDb, one of the largest online databases of movie, TV, and celebrity information. As budding data scientists and business analysts, you have been tasked to scrape a specific subset of data from IMDb to assist film production companies in understanding the landscape of highly-rated movies in a defined time period. Your insights will potentially influence the making of the next netflix movie!\n",
    "\n",
    "**Background**\n",
    "\n",
    "In a world where data has become the new currency, businesses are leveraging big data to make informed decisions that drive success and profitability. The entertainment industry, being no exception, utilizes data analytics to comprehend market trends, audience preferences, and the performance of films based on various parameters such as director, genre, stars involved, etc. IMDb stands as a goldmine of such data, offering intricate details of almost every movie ever made.\n",
    "\n",
    "**Task**\n",
    "\n",
    "Your task is to create a Python script using `BeautifulSoup` and `pandas` to scrape IMDb movie data based on user ratings and release dates. This script should be able to filter movies with ratings above a certain threshold and within a specified date range.\n",
    "\n",
    "**Expected Outcome**\n",
    "\n",
    "- A function named `scrape_imdb` that takes four parameters: `title_type`,`user_rating`, `start_date`, and `end_date`.\n",
    "- The function should return a DataFrame with the following columns:\n",
    "  - **Movie Nr**: The number representing the movie’s position in the list.\n",
    "  - **Title**: The title of the movie.\n",
    "  - **Year**: The year the movie was released.\n",
    "  - **Rating**: The IMDb rating of the movie.\n",
    "  - **Runtime (min)**: The duration of the movie in minutes.\n",
    "  - **Genre**: The genre of the movie.\n",
    "  - **Description**: A brief description of the movie.\n",
    "  - **Director**: The director of the movie.\n",
    "  - **Stars**: The main stars of the movie.\n",
    "  - **Votes**: The number of votes the movie received.\n",
    "  - **Gross ($M)**: The gross earnings of the movie in millions of USD.\n",
    "\n",
    "You will execute this script to scrape data for movies with the Title Type `Feature Film` that have a user rating of `7.5 and above` and were released between `January 1, 1990, and December 31, 1992`.\n",
    "\n",
    "Remember to experiment with different title types, dates and ratings to ensure your code is versatile and can handle various searches effectively!\n",
    "\n",
    "**Resources**\n",
    "\n",
    "- [Beautiful Soup Documentation](https://www.crummy.com/software/BeautifulSoup/bs4/doc/)\n",
    "- [Pandas Documentation](https://pandas.pydata.org/pandas-docs/stable/index.html)\n",
    "- [IMDb Advanced Search](https://www.imdb.com/search/title/)\n"
   ]
  },
  {
   "cell_type": "markdown",
   "id": "3519921d-5890-445b-9a33-934ed8ee378c",
   "metadata": {
    "id": "3519921d-5890-445b-9a33-934ed8ee378c"
   },
   "source": [
    "**Hint**\n",
    "\n",
    "Your first mission is to familiarize yourself with the IMDb advanced search page. Head over to [IMDb advanced search](https://www.imdb.com/search/title/) and input the following parameters, keeping all other fields to their default values or blank:\n",
    "\n",
    "- **Title Type**: Feature film\n",
    "- **Release date**: From 1990 to 1992 (Note: You don't need to specify the day and month)\n",
    "- **User Rating**: 7.5 to -\n",
    "\n",
    "Upon searching, you'll land on a page showcasing a list of movies, each displaying vital details such as the title, release year, and crew information. Your task is to scrape this treasure trove of data.\n",
    "\n",
    "Carefully examine the resulting URL and construct your own URL to include all the necessary parameters for filtering the movies."
   ]
  },
  {
   "cell_type": "markdown",
   "id": "25a83a0d-a742-49f6-985e-e27887cbf922",
   "metadata": {
    "id": "25a83a0d-a742-49f6-985e-e27887cbf922"
   },
   "source": [
    "\n",
    "---\n",
    "\n",
    "**Best of luck! Immerse yourself in the world of movies and may the data be with you!**"
   ]
  },
  {
   "cell_type": "markdown",
   "id": "7b75cf0d-9afa-4eec-a9e2-befeac68b2a0",
   "metadata": {
    "id": "7b75cf0d-9afa-4eec-a9e2-befeac68b2a0"
   },
   "source": [
    "**Important note**:\n",
    "\n",
    "In the fast-changing online world, websites often get updates and make changes. When you try this lab, the IMDb website might be different from what we expect.\n",
    "\n",
    "If you run into problems because of these changes, like new rules or things that stop you from getting data, don't worry! Instead, get creative.\n",
    "\n",
    "You can choose another website that interests you and is good for scraping data. Websites like Wikipedia or The New York Times are good options. The main goal is still the same: get useful data and learn how to scrape it from a website that you find interesting. It's a chance to practice your web scraping skills and explore a source of information you like."
   ]
  },
  {
   "cell_type": "code",
   "execution_count": 9,
   "id": "40359eee-9cd7-4884-bfa4-83344c222305",
   "metadata": {
    "id": "40359eee-9cd7-4884-bfa4-83344c222305"
   },
   "outputs": [
    {
     "name": "stdout",
     "output_type": "stream",
     "text": [
      "Empty DataFrame\n",
      "Columns: []\n",
      "Index: []\n"
     ]
    }
   ],
   "source": [
    "# Your solution goes here\n",
    "from bs4 import BeautifulSoup\n",
    "import requests\n",
    "import pandas as pd\n",
    "\n",
    "def scrape_imdb(title_type, user_rating, start_date, end_date):\n",
    "    # Access IMDb top-rated movies URL\n",
    "    url = 'http://www.imdb.com/chart/top'\n",
    "    response = requests.get(url)\n",
    "    soup = BeautifulSoup(response.text, \"html.parser\")\n",
    "\n",
    "    # Extract movie details\n",
    "    movies = soup.select('td.titleColumn')\n",
    "    crew = [a.attrs.get('title') for a in soup.select('td.titleColumn a')]\n",
    "    ratings = [b.attrs.get('data-value') for b in soup.select('td.posterColumn span[name=ir]')]\n",
    "\n",
    "     # Create a dictionary with movie details\n",
    "    movie_list = []\n",
    "    for index in range(len(movies)):\n",
    "        movie_string = movies[index].get_text()\n",
    "        movie = (' '.join(movie_string.split()).replace('.', ''))\n",
    "        movie_title = movie[len(str(index)) + 1:-7]\n",
    "        year = re.search(r'\\((.*?)\\)', movie_string).group(1)\n",
    "        place = movie[:len(str(index)) - (len(movie))]\n",
    "        \n",
    "        movie_details = {\n",
    "            \"Movie Nr\": index + 1,\n",
    "            \"Title\": movie_title,\n",
    "            \"Year\": year,\n",
    "            \"Rating\": ratings[index],\n",
    "            \"Runtime (min)\": None,  # You can extract this information from another source\n",
    "            \"Genre\": None,  # You can extract this information from another source\n",
    "            \"Description\": None,  # You can extract this information from another source\n",
    "            \"Director\": None,  # You can extract this information from another source\n",
    "            \"Stars\": crew[index],\n",
    "            \"Votes\": None,  # You can extract this information from another source\n",
    "            \"Gross ($M)\": None  # You can extract this information from another source\n",
    "        }\n",
    "        movie_list.append(data)\n",
    "\n",
    " # Create a DataFrame\n",
    "    df = pd.DataFrame(movie_list)\n",
    "    return df\n",
    "\n",
    "# Example usage:\n",
    "result_df = scrape_imdb(title_type=\"Feature film\", user_rating=8.0, start_date=\"2020-01-01\", end_date=\"2022-12-31\")\n",
    "print(result_df)\n"
   ]
  },
  {
   "cell_type": "markdown",
   "id": "9ab1217a-df9d-4a2b-a32c-2c5f1eecd52a",
   "metadata": {
    "id": "9ab1217a-df9d-4a2b-a32c-2c5f1eecd52a"
   },
   "source": [
    "## BONUS\n",
    "\n",
    "The search results span multiple pages, housing a total of 631 movies in our example with each page displaying 50 movies at most. To scrape data seamlessly from all pages, you'll need to dive deep into the structure of the URLs generated with each \"Next\" click.\n",
    "\n",
    "Take a close look at the following URLs:\n",
    "- First page:\n",
    "  ```\n",
    "  https://www.imdb.com/search/title/?title_type=feature&release_date=1990-01-01,1992-12-31&user_rating=7.5,\n",
    "  ```\n",
    "- Second page:\n",
    "  ```\n",
    "  https://www.imdb.com/search/title/?title_type=feature&release_date=1990-01-01,1992-12-31&user_rating=7.5,&start=51&ref_=adv_nxt\n",
    "  ```\n",
    "- Third page:\n",
    "  ```\n",
    "  https://www.imdb.com/search/title/?title_type=feature&release_date=1990-01-01,1992-12-31&user_rating=7.5,&start=101&ref_=adv_nxt\n",
    "  ```\n",
    "\n",
    "You should notice a pattern. There is a `start` parameter incrementing by 50 with each page, paired with a constant `ref_` parameter holding the value \"adv_nxt\".\n",
    "\n",
    "Modify your script so it's capable of iterating over all available pages to fetch data on all the 631 movies (631 is the total number of movies in the proposed example)."
   ]
  },
  {
   "cell_type": "code",
   "execution_count": 11,
   "id": "21ac4fc0-a12b-4a00-9266-2020166f0dea",
   "metadata": {
    "id": "21ac4fc0-a12b-4a00-9266-2020166f0dea"
   },
   "outputs": [
    {
     "name": "stdout",
     "output_type": "stream",
     "text": [
      "Empty DataFrame\n",
      "Columns: []\n",
      "Index: []\n"
     ]
    }
   ],
   "source": [
    "# Your solution goes here\n",
    "\n",
    "from bs4 import BeautifulSoup\n",
    "import requests\n",
    "\n",
    "import pandas as pd\n",
    "\n",
    "def scrape_imdb(title_type, user_rating, start_date, end_date):\n",
    "    # Initialize an empty list to store movie details\n",
    "    movie_list = []\n",
    "\n",
    "    # Set the initial start value\n",
    "    start = 1\n",
    "\n",
    "    while True:\n",
    "        # Construct the IMDb URL with the appropriate parameters\n",
    "        url = f\"http://www.imdb.com/search/title/?title_type={title_type}&release_date={start_date},{end_date}&user_rating={user_rating}&start={start}&ref_=adv_nxt\"\n",
    "        response = requests.get(url)\n",
    "        soup = BeautifulSoup(response.text, \"html.parser\")\n",
    "\n",
    "        # Extract movie details\n",
    "        movies = soup.select('td.titleColumn')\n",
    "        crew = [a.attrs.get('title') for a in soup.select('td.titleColumn a')]\n",
    "        ratings = [b.attrs.get('data-value') for b in soup.select('td.posterColumn span[name=ir]')]\n",
    "\n",
    "        # Create a dictionary for each movie and add it to the list\n",
    "        for index in range(len(movies)):\n",
    "            movie_string = movies[index].get_text()\n",
    "            movie = (' '.join(movie_string.split()).replace('.', ''))\n",
    "            movie_title = movie[len(str(index)) + 1:-7]\n",
    "            year = re.search(r'\\((.*?)\\)', movie_string).group(1)\n",
    "            place = movie[:len(str(index)) - (len(movie))]\n",
    "            data = {\n",
    "                \"Movie Nr\": index + start,\n",
    "                \"Title\": movie_title,\n",
    "                \"Year\": year,\n",
    "                \"Rating\": ratings[index],\n",
    "                \"Runtime (min)\": None,  # You can extract this information from another source\n",
    "                \"Genre\": None,  # You can extract this information from another source\n",
    "                \"Description\": None,  # You can extract this information from another source\n",
    "                \"Director\": None,  # You can extract this information from another source\n",
    "                \"Stars\": crew[index],\n",
    "                \"Votes\": None,  # You can extract this information from another source\n",
    "                \"Gross ($M)\": None  # You can extract this information from another source\n",
    "            }\n",
    "            movie_list.append(data)\n",
    "\n",
    "        # Check if there are more pages\n",
    "        next_page = soup.select('a.lister-page-next')\n",
    "        if not next_page:\n",
    "            break  # No more pages, exit the loop\n",
    "        else:\n",
    "            start += 50  # Increment the start value for the next page\n",
    "\n",
    "    # Create a DataFrame\n",
    "    df = pd.DataFrame(movie_list)\n",
    "    return df\n",
    "\n",
    "# Example usage:\n",
    "result_df = scrape_imdb(title_type=\"movie\", user_rating=8.0, start_date=\"2020-01-01\", end_date=\"2022-12-31\")\n",
    "print(result_df)\n"
   ]
  },
  {
   "cell_type": "code",
   "execution_count": null,
   "id": "51142cac",
   "metadata": {},
   "outputs": [],
   "source": []
  }
 ],
 "metadata": {
  "colab": {
   "provenance": []
  },
  "kernelspec": {
   "display_name": "Python 3 (ipykernel)",
   "language": "python",
   "name": "python3"
  },
  "language_info": {
   "codemirror_mode": {
    "name": "ipython",
    "version": 3
   },
   "file_extension": ".py",
   "mimetype": "text/x-python",
   "name": "python",
   "nbconvert_exporter": "python",
   "pygments_lexer": "ipython3",
   "version": "3.11.5"
  }
 },
 "nbformat": 4,
 "nbformat_minor": 5
}
